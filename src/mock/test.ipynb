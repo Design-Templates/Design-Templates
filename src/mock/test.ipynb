{
 "cells": [
  {
   "cell_type": "code",
   "execution_count": 1,
   "metadata": {},
   "outputs": [],
   "source": [
    "from selenium import webdriver\n",
    "from selenium.webdriver import ChromeOptions\n",
    "from selenium.webdriver.common.by import By\n",
    "from selenium.webdriver.support import expected_conditions as EC\n",
    "from selenium.webdriver.support.wait import WebDriverWait\n",
    "# import ddddocr\n",
    "import json\n",
    "import datetime\n",
    "import requests\n",
    "import time\n",
    "# import jsonpath\n",
    "from requests.cookies import RequestsCookieJar\n"
   ]
  },
  {
   "cell_type": "code",
   "execution_count": 4,
   "metadata": {},
   "outputs": [],
   "source": [
    "def get_driver():\n",
    "    \"\"\"\n",
    "    util driver\n",
    "    \"\"\"\n",
    "    # 打开浏览器，登录fine\n",
    "    option = ChromeOptions()\n",
    "    option.add_experimental_option('excludeSwitches', ['enable-automation'])\n",
    "    option.add_argument(\"--disable-blink-features=AutomationControlled\")\n",
    "    # 解决SSL证书问题\n",
    "    option.add_argument(\"--ignore-certificate-errors\")\n",
    "    # 解决控制台输出报错信息\n",
    "    option.add_experimental_option(\"excludeSwitches\", ['enable-logging'])\n",
    "    # 屏蔽webdriver特征\n",
    "    option.add_argument(\"--disable-blink-features\")\n",
    "    option.add_argument(\"--disable-blink-features=AutomationControlled\")\n",
    "    # Linux环境下，设置无头浏览器，静默模式启动浏览器，后台运行\n",
    "    # option.add_argument('--headless')\n",
    "    # 谷歌文档提到需要加上这个属性来规避bug\n",
    "    option.add_argument('--disable-gpu')\n",
    "    # 两个组合，chromedriver能在root权限下运行\n",
    "    option.add_argument('--no-sandbox')  # 彻底停用沙箱\n",
    "    option.add_argument('--disable-dev-shm-usage')\n",
    "    # Windows、Linux都生效，设置分辨率截图窗口大小，使用无头浏览器必须设置，否则截图窗口太小\n",
    "    option.add_argument('--window-size=1000,768')\n",
    "    # local\n",
    "    chrome = webdriver.Chrome(\n",
    "        '/Users/nexus.feng/chromedriver', options=option)\n",
    "    chrome.execute_cdp_cmd(\n",
    "        \"Page.addScriptToEvaluateOnNewDocument\", {\n",
    "            \"source\":\n",
    "                \"\"\"\n",
    "                Object.defineProperty(navigator, 'webdriver', {\n",
    "                    get: () => undefined\n",
    "                })\n",
    "                \"\"\"\n",
    "        })\n",
    "    return chrome\n"
   ]
  },
  {
   "cell_type": "code",
   "execution_count": 8,
   "metadata": {},
   "outputs": [
    {
     "name": "stderr",
     "output_type": "stream",
     "text": [
      "/var/folders/ty/qj80wn2d2kld_b5g3nmlj7vm0000gn/T/ipykernel_19480/1254081757.py:26: DeprecationWarning: executable_path has been deprecated, please pass in a Service object\n",
      "  chrome = webdriver.Chrome(\n"
     ]
    }
   ],
   "source": [
    "chrome = get_driver()\n",
    "chrome.get('https://www.chuangkit.com/templatecenter/calendarCenter?festivalId=95&keyWords=%E4%B8%83%E6%9C%88%E4%BD%A0%E5%A5%BD&chooseIndex=1')\n"
   ]
  },
  {
   "cell_type": "code",
   "execution_count": 9,
   "metadata": {},
   "outputs": [],
   "source": [
    "imgs = WebDriverWait(chrome, 5).until(\n",
    "        EC.presence_of_all_elements_located(\n",
    "            (By.CSS_SELECTOR,\n",
    "             'section > section.temp-sec__top > img'\n",
    "             )))\n",
    "\n"
   ]
  },
  {
   "cell_type": "code",
   "execution_count": 20,
   "metadata": {},
   "outputs": [
    {
     "name": "stdout",
     "output_type": "stream",
     "text": [
      "https://imgpub.chuangkit.com/designTemplate/2021/06/30/c770d68c-ec0c-4e1d-b1ba-bbc0db753a9d_thumb?v=2021-06-30T03:18:00.000+0000&x-oss-process=image/resize,w_600/sharpen,100/format,webp\n",
      "https://imgpub.chuangkit.com/designTemplate/2021/07/01/266594b1-f9f5-44b4-b722-f6ca25518cbd_thumb?v=2021-07-01T08:44:04.000+0000&x-oss-process=image/resize,w_600/sharpen,100/format,webp\n",
      "https://imgpub.chuangkit.com/designTemplate/2021/06/24/e754409e-abc4-48cd-9439-c13a4c14da12_thumb?v=2021-06-24T09:38:01.000+0000&x-oss-process=image/resize,w_600/sharpen,100/format,webp\n",
      "https://imgpub.chuangkit.com/designTemplate/2021/06/29/8f3545ca-91bd-4431-9302-14ca5b7f6bb9_thumb?v=2021-06-29T01:28:02.000+0000&x-oss-process=image/resize,w_600/sharpen,100/format,webp\n",
      "https://imgpub.chuangkit.com/designTemplate/2022/05/31/0b29e2da-537b-4566-a064-776173eff7cb_thumb?v=2022-05-31T06:36:02.000+0000&x-oss-process=image/resize,w_600/sharpen,100/format,webp\n",
      "https://imgpub.chuangkit.com/designTemplate/2021/06/27/2211586c-650d-452d-bc93-b291ba8a3682_thumb?v=2021-06-27T09:04:00.000+0000&x-oss-process=image/resize,w_600/sharpen,100/format,webp\n",
      "https://imgpub.chuangkit.com/designTemplate/2021/06/09/812d61b3-fdf4-4b1d-81c9-8982e9020e4a_thumb?v=2021-06-09T10:34:07.000+0000&x-oss-process=image/resize,w_600/sharpen,100/format,webp\n"
     ]
    }
   ],
   "source": [
    "img_urls = []\n",
    "for idx,img in enumerate(imgs):\n",
    "    img_url = img.get_attribute('src')\n",
    "    if 'gif' not in img_url:\n",
    "        img_urls.append(img_url)\n",
    "        print(img.get_attribute('src'))\n",
    "    # req = requests.get(img_url)\n",
    "    # with open(f'./tem_imgs/{idx}.jpg','wb') as f:\n",
    "    #     f.write(req.content)\n",
    "    #     f.close()\n",
    "\n"
   ]
  },
  {
   "cell_type": "code",
   "execution_count": 21,
   "metadata": {},
   "outputs": [],
   "source": [
    "js_template = \"\"\"\n",
    "const imageUrls = replace\n",
    "export default imageUrls\n",
    "\"\"\"\n",
    "js_template = js_template.replace('replace',str(img_urls))\n",
    "with open('test.js','w') as f:\n",
    "    f.write(js_template)\n",
    "    f.close()"
   ]
  },
  {
   "cell_type": "code",
   "execution_count": null,
   "metadata": {},
   "outputs": [],
   "source": []
  }
 ],
 "metadata": {
  "kernelspec": {
   "display_name": "Python 3.9.12 ('base')",
   "language": "python",
   "name": "python3"
  },
  "language_info": {
   "codemirror_mode": {
    "name": "ipython",
    "version": 3
   },
   "file_extension": ".py",
   "mimetype": "text/x-python",
   "name": "python",
   "nbconvert_exporter": "python",
   "pygments_lexer": "ipython3",
   "version": "3.9.12"
  },
  "orig_nbformat": 4,
  "vscode": {
   "interpreter": {
    "hash": "a4bb2d25707768aa5f2cc2a4610b480a1579aaa9d1da053aeb97ae49b86845ff"
   }
  }
 },
 "nbformat": 4,
 "nbformat_minor": 2
}
